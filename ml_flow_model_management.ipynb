{
 "cells": [
  {
   "cell_type": "markdown",
   "id": "20086d7c",
   "metadata": {},
   "source": [
    "<h2 align='center'>Codebasics ML Course: ML Flow Tutorial</h2>"
   ]
  },
  {
   "cell_type": "code",
   "execution_count": 1,
   "id": "2134f63a",
   "metadata": {},
   "outputs": [],
   "source": [
    "import numpy as np\n",
    "from sklearn.datasets import make_classification\n",
    "from sklearn.model_selection import train_test_split\n",
    "from sklearn.linear_model import LogisticRegression\n",
    "from sklearn.ensemble import RandomForestClassifier\n",
    "from xgboost import XGBClassifier\n",
    "from sklearn.metrics import classification_report\n",
    "import warnings\n",
    "warnings.filterwarnings('ignore')"
   ]
  },
  {
   "cell_type": "code",
   "execution_count": 2,
   "id": "8a467445",
   "metadata": {},
   "outputs": [
    {
     "data": {
      "text/plain": [
       "(array([0, 1]), array([900, 100], dtype=int64))"
      ]
     },
     "execution_count": 2,
     "metadata": {},
     "output_type": "execute_result"
    }
   ],
   "source": [
    "# Step 1: Create an imbalanced binary classification dataset\n",
    "X, y = make_classification(n_samples=1000, n_features=10, n_informative=2, n_redundant=8, \n",
    "                           weights=[0.9, 0.1], flip_y=0, random_state=42)\n",
    "\n",
    "np.unique(y, return_counts=True)"
   ]
  },
  {
   "cell_type": "code",
   "execution_count": 3,
   "id": "7fc473ad",
   "metadata": {},
   "outputs": [],
   "source": [
    "# Split the dataset into training and testing sets\n",
    "X_train, X_test, y_train, y_test = train_test_split(X, y, test_size=0.3, stratify=y, random_state=42)"
   ]
  },
  {
   "cell_type": "markdown",
   "id": "ce174acd",
   "metadata": {},
   "source": [
    "#### Handle class imbalance"
   ]
  },
  {
   "cell_type": "code",
   "execution_count": 5,
   "id": "0c6d768a",
   "metadata": {},
   "outputs": [
    {
     "data": {
      "text/plain": [
       "(array([0, 1]), array([619, 619], dtype=int64))"
      ]
     },
     "execution_count": 5,
     "metadata": {},
     "output_type": "execute_result"
    }
   ],
   "source": [
    "from imblearn.combine import SMOTETomek\n",
    "\n",
    "smt = SMOTETomek(random_state=42)\n",
    "X_train_smt, y_train_smt = smt.fit_resample(X_train, y_train)\n",
    "np.unique(y_train_smt, return_counts=True)"
   ]
  },
  {
   "cell_type": "markdown",
   "id": "f04a52b2",
   "metadata": {},
   "source": [
    "### Track Experiments"
   ]
  },
  {
   "cell_type": "code",
   "execution_count": 6,
   "id": "82fdaf1c",
   "metadata": {},
   "outputs": [],
   "source": [
    "models = [\n",
    "    (\n",
    "        \"Logistic Regression\", \n",
    "        {\"C\": 1, \"solver\": 'liblinear'},\n",
    "        LogisticRegression(), \n",
    "        (X_train, y_train),\n",
    "        (X_test, y_test)\n",
    "    ),\n",
    "    (\n",
    "        \"Random Forest\", \n",
    "        {\"n_estimators\": 30, \"max_depth\": 3},\n",
    "        RandomForestClassifier(), \n",
    "        (X_train, y_train),\n",
    "        (X_test, y_test)\n",
    "    ),\n",
    "    (\n",
    "        \"XGBClassifier\",\n",
    "        {\"use_label_encoder\": False, \"eval_metric\": 'logloss'},\n",
    "        XGBClassifier(), \n",
    "        (X_train, y_train),\n",
    "        (X_test, y_test)\n",
    "    ),\n",
    "    (\n",
    "        \"XGBClassifier With SMOTE\",\n",
    "        {\"use_label_encoder\": False, \"eval_metric\": 'logloss'},\n",
    "        XGBClassifier(), \n",
    "        (X_train_res, y_train_res),\n",
    "        (X_test, y_test)\n",
    "    )\n",
    "]"
   ]
  },
  {
   "cell_type": "code",
   "execution_count": 7,
   "id": "13a992c3",
   "metadata": {},
   "outputs": [],
   "source": [
    "reports = []\n",
    "\n",
    "for model_name, params, model, train_set, test_set in models:\n",
    "    X_train = train_set[0]\n",
    "    y_train = train_set[1]\n",
    "    X_test = test_set[0]\n",
    "    y_test = test_set[1]\n",
    "    \n",
    "    model.set_params(**params)\n",
    "    model.fit(X_train, y_train)\n",
    "    y_pred = model.predict(X_test)\n",
    "    report = classification_report(y_test, y_pred, output_dict=True)\n",
    "    reports.append(report)"
   ]
  },
  {
   "cell_type": "code",
   "execution_count": 8,
   "id": "50009cba-28ae-4bda-bc9a-e3d1206cddfb",
   "metadata": {},
   "outputs": [
    {
     "data": {
      "text/plain": [
       "[{'0': {'precision': 0.9454545454545454,\n",
       "   'recall': 0.9629629629629629,\n",
       "   'f1-score': 0.9541284403669725,\n",
       "   'support': 270.0},\n",
       "  '1': {'precision': 0.6,\n",
       "   'recall': 0.5,\n",
       "   'f1-score': 0.5454545454545454,\n",
       "   'support': 30.0},\n",
       "  'accuracy': 0.9166666666666666,\n",
       "  'macro avg': {'precision': 0.7727272727272727,\n",
       "   'recall': 0.7314814814814814,\n",
       "   'f1-score': 0.749791492910759,\n",
       "   'support': 300.0},\n",
       "  'weighted avg': {'precision': 0.9109090909090909,\n",
       "   'recall': 0.9166666666666666,\n",
       "   'f1-score': 0.91326105087573,\n",
       "   'support': 300.0}},\n",
       " {'0': {'precision': 0.96415770609319,\n",
       "   'recall': 0.9962962962962963,\n",
       "   'f1-score': 0.9799635701275046,\n",
       "   'support': 270.0},\n",
       "  '1': {'precision': 0.9523809523809523,\n",
       "   'recall': 0.6666666666666666,\n",
       "   'f1-score': 0.7843137254901961,\n",
       "   'support': 30.0},\n",
       "  'accuracy': 0.9633333333333334,\n",
       "  'macro avg': {'precision': 0.9582693292370712,\n",
       "   'recall': 0.8314814814814815,\n",
       "   'f1-score': 0.8821386478088503,\n",
       "   'support': 300.0},\n",
       "  'weighted avg': {'precision': 0.9629800307219661,\n",
       "   'recall': 0.9633333333333334,\n",
       "   'f1-score': 0.9603985856637737,\n",
       "   'support': 300.0}},\n",
       " {'0': {'precision': 0.9781818181818182,\n",
       "   'recall': 0.9962962962962963,\n",
       "   'f1-score': 0.9871559633027523,\n",
       "   'support': 270.0},\n",
       "  '1': {'precision': 0.96,\n",
       "   'recall': 0.8,\n",
       "   'f1-score': 0.8727272727272727,\n",
       "   'support': 30.0},\n",
       "  'accuracy': 0.9766666666666667,\n",
       "  'macro avg': {'precision': 0.969090909090909,\n",
       "   'recall': 0.8981481481481481,\n",
       "   'f1-score': 0.9299416180150125,\n",
       "   'support': 300.0},\n",
       "  'weighted avg': {'precision': 0.9763636363636364,\n",
       "   'recall': 0.9766666666666667,\n",
       "   'f1-score': 0.9757130942452044,\n",
       "   'support': 300.0}},\n",
       " {'0': {'precision': 0.9814126394052045,\n",
       "   'recall': 0.9777777777777777,\n",
       "   'f1-score': 0.9795918367346939,\n",
       "   'support': 270.0},\n",
       "  '1': {'precision': 0.8064516129032258,\n",
       "   'recall': 0.8333333333333334,\n",
       "   'f1-score': 0.819672131147541,\n",
       "   'support': 30.0},\n",
       "  'accuracy': 0.9633333333333334,\n",
       "  'macro avg': {'precision': 0.8939321261542151,\n",
       "   'recall': 0.9055555555555556,\n",
       "   'f1-score': 0.8996319839411174,\n",
       "   'support': 300.0},\n",
       "  'weighted avg': {'precision': 0.9639165367550067,\n",
       "   'recall': 0.9633333333333334,\n",
       "   'f1-score': 0.9635998661759786,\n",
       "   'support': 300.0}}]"
      ]
     },
     "execution_count": 8,
     "metadata": {},
     "output_type": "execute_result"
    }
   ],
   "source": [
    "reports"
   ]
  },
  {
   "cell_type": "code",
   "execution_count": 10,
   "id": "d9301bc0",
   "metadata": {},
   "outputs": [],
   "source": [
    "import mlflow\n",
    "import mlflow.sklearn\n",
    "import mlflow.xgboost"
   ]
  },
  {
   "cell_type": "code",
   "execution_count": 15,
   "id": "9ad9cf4d",
   "metadata": {},
   "outputs": [
    {
     "name": "stderr",
     "output_type": "stream",
     "text": [
      "2024/09/03 18:50:25 INFO mlflow.tracking.fluent: Experiment with name 'Anomaly Detection1' does not exist. Creating a new experiment.\n",
      "2024/09/03 18:50:37 WARNING mlflow.models.model: Model logged without a signature and input example. Please set `input_example` parameter when logging the model to auto infer the model signature.\n",
      "2024/09/03 18:50:38 INFO mlflow.tracking._tracking_service.client: 🏃 View run Logistic Regression at: http://localhost:5000/#/experiments/657483231319315827/runs/6c0430acff1b46c0af03376ec74027cc.\n",
      "2024/09/03 18:50:38 INFO mlflow.tracking._tracking_service.client: 🧪 View experiment at: http://localhost:5000/#/experiments/657483231319315827.\n",
      "2024/09/03 18:50:46 WARNING mlflow.models.model: Model logged without a signature and input example. Please set `input_example` parameter when logging the model to auto infer the model signature.\n",
      "2024/09/03 18:50:46 INFO mlflow.tracking._tracking_service.client: 🏃 View run Random Forest at: http://localhost:5000/#/experiments/657483231319315827/runs/b3afe80d9e054d589b03060a75fa4505.\n",
      "2024/09/03 18:50:46 INFO mlflow.tracking._tracking_service.client: 🧪 View experiment at: http://localhost:5000/#/experiments/657483231319315827.\n",
      "2024/09/03 18:50:54 WARNING mlflow.models.model: Model logged without a signature and input example. Please set `input_example` parameter when logging the model to auto infer the model signature.\n",
      "2024/09/03 18:50:54 INFO mlflow.tracking._tracking_service.client: 🏃 View run XGBClassifier at: http://localhost:5000/#/experiments/657483231319315827/runs/998bfa581b684db8ba88207bb17c5c82.\n",
      "2024/09/03 18:50:54 INFO mlflow.tracking._tracking_service.client: 🧪 View experiment at: http://localhost:5000/#/experiments/657483231319315827.\n",
      "2024/09/03 18:51:01 WARNING mlflow.models.model: Model logged without a signature and input example. Please set `input_example` parameter when logging the model to auto infer the model signature.\n",
      "2024/09/03 18:51:02 INFO mlflow.tracking._tracking_service.client: 🏃 View run XGBClassifier With SMOTE at: http://localhost:5000/#/experiments/657483231319315827/runs/af738bee7a0d4e5682170cdf21bdb571.\n",
      "2024/09/03 18:51:02 INFO mlflow.tracking._tracking_service.client: 🧪 View experiment at: http://localhost:5000/#/experiments/657483231319315827.\n"
     ]
    }
   ],
   "source": [
    "# Initialize MLflow\n",
    "mlflow.set_experiment(\"Anomaly Detection1\")\n",
    "mlflow.set_tracking_uri(\"http://localhost:5000\")\n",
    "\n",
    "for i, element in enumerate(models):\n",
    "    model_name = element[0]\n",
    "    params = element[1]\n",
    "    model = element[2]\n",
    "    report = reports[i]\n",
    "    \n",
    "    with mlflow.start_run(run_name=model_name):        \n",
    "        mlflow.log_params(params)\n",
    "        mlflow.log_metrics({\n",
    "            'accuracy': report['accuracy'],\n",
    "            'recall_class_1': report['1']['recall'],\n",
    "            'recall_class_0': report['0']['recall'],\n",
    "            'f1_score_macro': report['macro avg']['f1-score']\n",
    "        })  \n",
    "        \n",
    "        if \"XGB\" in model_name:\n",
    "            mlflow.xgboost.log_model(model, \"model\")\n",
    "        else:\n",
    "            mlflow.sklearn.log_model(model, \"model\")  "
   ]
  },
  {
   "cell_type": "markdown",
   "id": "7446ae8a",
   "metadata": {},
   "source": [
    "### Register the Model\n",
    "\n",
    "- XGBoost run_id ==> `af738bee7a0d4e5682170cdf21bdb571`"
   ]
  },
  {
   "cell_type": "code",
   "execution_count": 16,
   "id": "fb80186b-9a38-4036-980f-f1509a04c6d2",
   "metadata": {},
   "outputs": [
    {
     "name": "stdin",
     "output_type": "stream",
     "text": [
      "Please type RunID af738bee7a0d4e5682170cdf21bdb571\n"
     ]
    }
   ],
   "source": [
    "model_name = 'XGB-Smote'\n",
    "run_id=input('Please type RunID')\n",
    "# model_uri = f'runs:/{run_id}/{model_name}'\n",
    "model_uri = f'runs:/{run_id}/model'"
   ]
  },
  {
   "cell_type": "code",
   "execution_count": 17,
   "id": "87d807b8-410e-4417-a0d0-7a4ddaa00076",
   "metadata": {},
   "outputs": [
    {
     "name": "stderr",
     "output_type": "stream",
     "text": [
      "Successfully registered model 'XGB-Smote'.\n",
      "2024/09/03 18:57:10 INFO mlflow.store.model_registry.abstract_store: Waiting up to 300 seconds for model version to finish creation. Model name: XGB-Smote, version 1\n",
      "Created version '1' of model 'XGB-Smote'.\n"
     ]
    }
   ],
   "source": [
    "# result = mlflow.register_model(\n",
    "#     \"runs:/d16076a3ec534311817565e6527539c0/sklearn-model\", \"sk-learn-random-forest-reg\"\n",
    "# )\n",
    "result = mlflow.register_model(model_uri,model_name)"
   ]
  },
  {
   "cell_type": "code",
   "execution_count": null,
   "id": "12470f15-646d-435e-9ccb-f613d86751fb",
   "metadata": {},
   "outputs": [],
   "source": [
    "# with mlflow.start_run(run_id=run_id):\n",
    "#     mlflow.register_model(model_uri=model_uri, name=model_name)"
   ]
  },
  {
   "cell_type": "markdown",
   "id": "a14a350a-a9dc-4a7b-91e4-d38d3d9f67f1",
   "metadata": {},
   "source": [
    "**Note**\n",
    "\n",
    "- in the mlflow ==> add description to the Registered model\n",
    "- alias name as `challenger`"
   ]
  },
  {
   "cell_type": "markdown",
   "id": "1b074a08",
   "metadata": {},
   "source": [
    "### Load the Model and make predictions"
   ]
  },
  {
   "cell_type": "code",
   "execution_count": 18,
   "id": "a40fef12",
   "metadata": {
    "scrolled": true
   },
   "outputs": [
    {
     "data": {
      "application/vnd.jupyter.widget-view+json": {
       "model_id": "45bd9af1d910424591bc0dc197a8025a",
       "version_major": 2,
       "version_minor": 0
      },
      "text/plain": [
       "Downloading artifacts:   0%|          | 0/5 [00:00<?, ?it/s]"
      ]
     },
     "metadata": {},
     "output_type": "display_data"
    },
    {
     "data": {
      "text/plain": [
       "array([0, 0, 0, 0])"
      ]
     },
     "execution_count": 18,
     "metadata": {},
     "output_type": "execute_result"
    }
   ],
   "source": [
    "# model_version = 1\n",
    "# model_uri = f\"models:/{model_name}/{model_version}\"\n",
    "model_uri = f\"models:/{model_name}@challenger\"\n",
    "\n",
    "\n",
    "loaded_model = mlflow.xgboost.load_model(model_uri)\n",
    "y_pred = loaded_model.predict(X_test)\n",
    "y_pred[:4]"
   ]
  },
  {
   "cell_type": "markdown",
   "id": "5f8d2893",
   "metadata": {},
   "source": [
    "### Transition the Model to Production"
   ]
  },
  {
   "cell_type": "code",
   "execution_count": 19,
   "id": "9c8ac1e3",
   "metadata": {
    "scrolled": true
   },
   "outputs": [
    {
     "name": "stderr",
     "output_type": "stream",
     "text": [
      "Successfully registered model 'anomaly-detection-prod'.\n",
      "Copied version '1' of model 'XGB-Smote' to version '1' of model 'anomaly-detection-prod'.\n"
     ]
    },
    {
     "data": {
      "text/plain": [
       "<ModelVersion: aliases=[], creation_timestamp=1725370174680, current_stage='None', description='', last_updated_timestamp=1725370174680, name='anomaly-detection-prod', run_id='af738bee7a0d4e5682170cdf21bdb571', run_link='', source='models:/XGB-Smote/1', status='READY', status_message='', tags={}, user_id='', version='1'>"
      ]
     },
     "execution_count": 19,
     "metadata": {},
     "output_type": "execute_result"
    }
   ],
   "source": [
    "current_model_uri = f\"models:/{model_name}@challenger\"\n",
    "production_model_name = \"anomaly-detection-prod\"\n",
    "\n",
    "client = mlflow.MlflowClient()\n",
    "client.copy_model_version(src_model_uri=current_model_uri, dst_name=production_model_name)"
   ]
  },
  {
   "cell_type": "markdown",
   "id": "92891245-479c-4874-9f7e-04e4ac62980b",
   "metadata": {},
   "source": [
    "**Note**\n",
    "\n",
    "- in the mlflow ==> add description to the Registered model\n",
    "- alias name as `champion`"
   ]
  },
  {
   "cell_type": "markdown",
   "id": "44fb2492-f0a4-4459-a810-4441536cc0c7",
   "metadata": {},
   "source": [
    "### Load the Production Model and make predictions"
   ]
  },
  {
   "cell_type": "code",
   "execution_count": 20,
   "id": "4297a2fe",
   "metadata": {},
   "outputs": [
    {
     "data": {
      "application/vnd.jupyter.widget-view+json": {
       "model_id": "ab559ff56d3e48b9aef9d1c5384df5dd",
       "version_major": 2,
       "version_minor": 0
      },
      "text/plain": [
       "Downloading artifacts:   0%|          | 0/5 [00:00<?, ?it/s]"
      ]
     },
     "metadata": {},
     "output_type": "display_data"
    },
    {
     "data": {
      "text/plain": [
       "array([0, 0, 0, 0])"
      ]
     },
     "execution_count": 20,
     "metadata": {},
     "output_type": "execute_result"
    }
   ],
   "source": [
    "# model_version = 1\n",
    "prod_model_uri = f\"models:/{production_model_name}@champion\"\n",
    "\n",
    "loaded_model = mlflow.xgboost.load_model(prod_model_uri)\n",
    "y_pred = loaded_model.predict(X_test)\n",
    "y_pred[:4]"
   ]
  },
  {
   "cell_type": "markdown",
   "id": "ca565a87",
   "metadata": {},
   "source": [
    "Please refer to following to learn more about model registry\n",
    "\n",
    "https://mlflow.org/docs/latest/model-registry.html#model-registry-workflows to learn "
   ]
  },
  {
   "cell_type": "code",
   "execution_count": null,
   "id": "19abe099-589a-4a74-93de-a3a0906a8633",
   "metadata": {},
   "outputs": [],
   "source": []
  }
 ],
 "metadata": {
  "kernelspec": {
   "display_name": "Python 3 (ipykernel)",
   "language": "python",
   "name": "python3"
  },
  "language_info": {
   "codemirror_mode": {
    "name": "ipython",
    "version": 3
   },
   "file_extension": ".py",
   "mimetype": "text/x-python",
   "name": "python",
   "nbconvert_exporter": "python",
   "pygments_lexer": "ipython3",
   "version": "3.12.4"
  }
 },
 "nbformat": 4,
 "nbformat_minor": 5
}
